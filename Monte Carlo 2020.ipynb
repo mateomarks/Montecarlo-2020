{
 "cells": [
  {
   "cell_type": "markdown",
   "metadata": {},
   "source": [
    "<img src=\"https://uploads-ssl.webflow.com/5eae007d92687089219c5dec/5eb47da29ced78042e9768ce_long_logo.png\" align=\"right\" border=\"0\" width=\"35%\" >"
   ]
  },
  {
   "cell_type": "markdown",
   "metadata": {},
   "source": [
    "# Montecarlo Simulation of SP500, Apple & Microsoft\n",
    "\n",
    "**Optimal portfolio Mean-Variance Markowitz Approach**"
   ]
  },
  {
   "cell_type": "markdown",
   "metadata": {},
   "source": [
    "Import the required packages"
   ]
  },
  {
   "cell_type": "code",
   "execution_count": 1,
   "metadata": {},
   "outputs": [],
   "source": [
    "import numpy as np\n",
    "import pandas as pd\n",
    "import matplotlib.pyplot as plt\n",
    "import seaborn as sns\n",
    "from yahoofinancials import YahooFinancials"
   ]
  },
  {
   "cell_type": "markdown",
   "metadata": {},
   "source": [
    "Download the stock prices"
   ]
  },
  {
   "cell_type": "code",
   "execution_count": 2,
   "metadata": {},
   "outputs": [
    {
     "data": {
      "text/html": [
       "<div>\n",
       "<style scoped>\n",
       "    .dataframe tbody tr th:only-of-type {\n",
       "        vertical-align: middle;\n",
       "    }\n",
       "\n",
       "    .dataframe tbody tr th {\n",
       "        vertical-align: top;\n",
       "    }\n",
       "\n",
       "    .dataframe thead th {\n",
       "        text-align: right;\n",
       "    }\n",
       "</style>\n",
       "<table border=\"1\" class=\"dataframe\">\n",
       "  <thead>\n",
       "    <tr style=\"text-align: right;\">\n",
       "      <th></th>\n",
       "      <th>AAPL</th>\n",
       "      <th>MSFT</th>\n",
       "      <th>SPY</th>\n",
       "    </tr>\n",
       "  </thead>\n",
       "  <tbody>\n",
       "    <tr>\n",
       "      <th>2020-01-02</th>\n",
       "      <td>300.350006</td>\n",
       "      <td>160.619995</td>\n",
       "      <td>324.869995</td>\n",
       "    </tr>\n",
       "    <tr>\n",
       "      <th>2020-01-03</th>\n",
       "      <td>297.429993</td>\n",
       "      <td>158.619995</td>\n",
       "      <td>322.410004</td>\n",
       "    </tr>\n",
       "    <tr>\n",
       "      <th>2020-01-06</th>\n",
       "      <td>299.799988</td>\n",
       "      <td>159.029999</td>\n",
       "      <td>323.640015</td>\n",
       "    </tr>\n",
       "    <tr>\n",
       "      <th>2020-01-07</th>\n",
       "      <td>298.390015</td>\n",
       "      <td>157.580002</td>\n",
       "      <td>322.730011</td>\n",
       "    </tr>\n",
       "    <tr>\n",
       "      <th>2020-01-08</th>\n",
       "      <td>303.190002</td>\n",
       "      <td>160.089996</td>\n",
       "      <td>324.450012</td>\n",
       "    </tr>\n",
       "    <tr>\n",
       "      <th>...</th>\n",
       "      <td>...</td>\n",
       "      <td>...</td>\n",
       "      <td>...</td>\n",
       "    </tr>\n",
       "    <tr>\n",
       "      <th>2020-04-24</th>\n",
       "      <td>282.970001</td>\n",
       "      <td>174.550003</td>\n",
       "      <td>282.970001</td>\n",
       "    </tr>\n",
       "    <tr>\n",
       "      <th>2020-04-27</th>\n",
       "      <td>283.170013</td>\n",
       "      <td>174.050003</td>\n",
       "      <td>287.049988</td>\n",
       "    </tr>\n",
       "    <tr>\n",
       "      <th>2020-04-28</th>\n",
       "      <td>278.579987</td>\n",
       "      <td>169.809998</td>\n",
       "      <td>285.730011</td>\n",
       "    </tr>\n",
       "    <tr>\n",
       "      <th>2020-04-29</th>\n",
       "      <td>287.730011</td>\n",
       "      <td>177.429993</td>\n",
       "      <td>293.209991</td>\n",
       "    </tr>\n",
       "    <tr>\n",
       "      <th>2020-04-30</th>\n",
       "      <td>293.799988</td>\n",
       "      <td>179.210007</td>\n",
       "      <td>290.480011</td>\n",
       "    </tr>\n",
       "  </tbody>\n",
       "</table>\n",
       "<p>83 rows × 3 columns</p>\n",
       "</div>"
      ],
      "text/plain": [
       "                  AAPL        MSFT         SPY\n",
       "2020-01-02  300.350006  160.619995  324.869995\n",
       "2020-01-03  297.429993  158.619995  322.410004\n",
       "2020-01-06  299.799988  159.029999  323.640015\n",
       "2020-01-07  298.390015  157.580002  322.730011\n",
       "2020-01-08  303.190002  160.089996  324.450012\n",
       "...                ...         ...         ...\n",
       "2020-04-24  282.970001  174.550003  282.970001\n",
       "2020-04-27  283.170013  174.050003  287.049988\n",
       "2020-04-28  278.579987  169.809998  285.730011\n",
       "2020-04-29  287.730011  177.429993  293.209991\n",
       "2020-04-30  293.799988  179.210007  290.480011\n",
       "\n",
       "[83 rows x 3 columns]"
      ]
     },
     "execution_count": 2,
     "metadata": {},
     "output_type": "execute_result"
    }
   ],
   "source": [
    "# Select Tickers and stock history dates\n",
    "ticker = 'AAPL'\n",
    "ticker2 = 'MSFT'\n",
    "ticker3 = 'SPY'\n",
    "freq = 'daily'\n",
    "start_date = '2020-01-01'\n",
    "end_date = '2020-05-01'\n",
    "\n",
    "\n",
    "# Function to clean data extracts\n",
    "def clean_stock_data(stock_data_list):\n",
    "    new_list = []\n",
    "    for rec in stock_data_list:\n",
    "        if 'type' not in rec.keys():\n",
    "            new_list.append(rec)\n",
    "    return new_list\n",
    "\n",
    "# Construct yahoo financials objects for data extraction\n",
    "aapl_financials = YahooFinancials(ticker)\n",
    "mfst_financials = YahooFinancials(ticker2)\n",
    "spy_financials = YahooFinancials(ticker3)\n",
    "\n",
    "\n",
    "# Clean returned stock history data and remove dividend events from price history\n",
    "\n",
    "daily_aapl_data = clean_stock_data(aapl_financials\n",
    "                                     .get_historical_price_data(start_date, end_date, freq)[ticker]['prices'])\n",
    "daily_msft_data = clean_stock_data(mfst_financials\n",
    "                                     .get_historical_price_data(start_date, end_date, freq)[ticker2]['prices'])\n",
    "daily_spy_data = clean_stock_data(spy_financials\n",
    "                                     .get_historical_price_data(start_date, end_date, freq)[ticker3]['prices'])\n",
    "\n",
    "# Function to construct data frame based on a stock and it's market index\n",
    "def build_data_frame(data_list1, data_list2, data_list3):\n",
    "    data_dict = {}\n",
    "    i = 0\n",
    "    for list_item in data_list2:\n",
    "        if 'type' not in list_item.keys():\n",
    "            data_dict.update({list_item['formatted_date']: {'SPY': data_list3[i]['close'], \n",
    "                                                            'AAPL': data_list1[i]['close'],\n",
    "                                                            'MSFT': data_list2[i]['close']\n",
    "                                                            }})\n",
    "            i += 1\n",
    "    tseries = pd.to_datetime(list(data_dict.keys()))\n",
    "    df = pd.DataFrame(data=list(data_dict.values()), index=tseries,\n",
    "                      columns=['AAPL', 'MSFT', 'SPY']).sort_index()\n",
    "    return df\n",
    "\n",
    "build_data_frame(daily_aapl_data, daily_msft_data, daily_spy_data)\n",
    "\n",
    "## Code from:\n",
    "## https://stackoverflow.com/questions/49705047/downloading-mutliple-stocks-at-once-from-yahoo-finance-python"
   ]
  },
  {
   "cell_type": "markdown",
   "metadata": {},
   "source": [
    "<img src=\"https://uploads-ssl.webflow.com/5eae007d92687089219c5dec/5eb47da29ced78042e9768ce_long_logo.png\" align=\"right\" border=\"0\" width=\"35%\" > <br>"
   ]
  }
 ],
 "metadata": {
  "kernelspec": {
   "display_name": "Python 3",
   "language": "python",
   "name": "python3"
  },
  "language_info": {
   "codemirror_mode": {
    "name": "ipython",
    "version": 3
   },
   "file_extension": ".py",
   "mimetype": "text/x-python",
   "name": "python",
   "nbconvert_exporter": "python",
   "pygments_lexer": "ipython3",
   "version": "3.7.6"
  }
 },
 "nbformat": 4,
 "nbformat_minor": 4
}
